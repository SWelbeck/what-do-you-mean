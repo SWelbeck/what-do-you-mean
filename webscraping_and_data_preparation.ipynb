{
 "cells": [
  {
   "cell_type": "code",
   "execution_count": 40,
   "metadata": {},
   "outputs": [],
   "source": [
    "# helper functions\n",
    "from frb_functions import *\n",
    "import pandas as pd\n",
    "from copy import deepcopy"
   ]
  },
  {
   "cell_type": "markdown",
   "metadata": {},
   "source": [
    "## Webscraping Federal Reserve (Fed) Speeches"
   ]
  },
  {
   "cell_type": "markdown",
   "metadata": {},
   "source": [
    "The first corpus I will be working with are the speeches that are made by Federal Reserve members and subsequently published on the Fed website. These speeches can help us identify the topics of interest to the Fed."
   ]
  },
  {
   "cell_type": "code",
   "execution_count": null,
   "metadata": {},
   "outputs": [],
   "source": [
    "# webscrape recent speech text from Fed website\n",
    "speech_urls = navigate_frb_speeches()\n",
    "speeches = get_frb_speech_text(speech_urls)\n",
    "speeches_df = pd.DataFrame(frb_articles,\n",
    "                               columns=['url', 'speech_date', 'title', 'speaker', 'location', 'full_text'])"
   ]
  },
  {
   "cell_type": "code",
   "execution_count": 2,
   "metadata": {},
   "outputs": [],
   "source": [
    "# webscrape archived speech text from Fed website\n",
    "# because archived speeches are formatted differently\n",
    "speech_urls, speakers, locations, dates_, titles = navigate_frb_archived_speeches()\n",
    "speech_text = get_frb_speech_text_archived(speech_urls)\n",
    "# Combine scraped text \n",
    "archived_speeches = list(zip(speech_urls, dates_, titles, speakers, locations, speech_text))\n",
    "archived_speeches_df = pd.DataFrame(archived_speeches,\n",
    "                                                 columns=['url', 'speech_date', 'title',\n",
    "                                                          'speaker', 'location', 'full_text'])"
   ]
  },
  {
   "cell_type": "code",
   "execution_count": 37,
   "metadata": {},
   "outputs": [],
   "source": [
    "# Combine archived & recent speech dataframes\n",
    "df_raw = pd.concat([speeches_df, archived_speeches_df])\n",
    "# Save to pickle to be able to access raw data without needing to webscrape again\n",
    "df_raw.to_pickle('frb_speeches_all_raw.pkl')"
   ]
  },
  {
   "cell_type": "markdown",
   "metadata": {},
   "source": [
    "## Cleaning Speech Text"
   ]
  },
  {
   "cell_type": "markdown",
   "metadata": {},
   "source": [
    "I now clean up the speech text that I webscraped. It contains numbers, stop words, references and links at the end of each speech, and has stop words that are not helpful for our NLP analysis. \n",
    "\n",
    "In addtion to data cleaning, I also create some simple features such as speech year, count of unique words, and lemmatized list of tokens."
   ]
  },
  {
   "cell_type": "code",
   "execution_count": 5,
   "metadata": {},
   "outputs": [],
   "source": [
    "#importing pandas DataFrame of speech text and metadata\n",
    "df_raw = pd.read_pickle('frb_speeches_all_raw.pkl')"
   ]
  },
  {
   "cell_type": "code",
   "execution_count": 6,
   "metadata": {},
   "outputs": [
    {
     "data": {
      "text/plain": [
       "(1432, 6)"
      ]
     },
     "execution_count": 6,
     "metadata": {},
     "output_type": "execute_result"
    }
   ],
   "source": [
    "df_raw.shape"
   ]
  },
  {
   "cell_type": "code",
   "execution_count": 7,
   "metadata": {},
   "outputs": [
    {
     "data": {
      "text/html": [
       "<div>\n",
       "<style scoped>\n",
       "    .dataframe tbody tr th:only-of-type {\n",
       "        vertical-align: middle;\n",
       "    }\n",
       "\n",
       "    .dataframe tbody tr th {\n",
       "        vertical-align: top;\n",
       "    }\n",
       "\n",
       "    .dataframe thead th {\n",
       "        text-align: right;\n",
       "    }\n",
       "</style>\n",
       "<table border=\"1\" class=\"dataframe\">\n",
       "  <thead>\n",
       "    <tr style=\"text-align: right;\">\n",
       "      <th></th>\n",
       "      <th>url</th>\n",
       "      <th>speech_date</th>\n",
       "      <th>title</th>\n",
       "      <th>speaker</th>\n",
       "      <th>location</th>\n",
       "      <th>full_text</th>\n",
       "    </tr>\n",
       "  </thead>\n",
       "  <tbody>\n",
       "    <tr>\n",
       "      <th>0</th>\n",
       "      <td>https://www.federalreserve.gov/newsevents/spee...</td>\n",
       "      <td>November 14, 2019</td>\n",
       "      <td>The Federal Reserve’s Review of Its Monetary P...</td>\n",
       "      <td>Vice Chair Richard H. Clarida</td>\n",
       "      <td>At \"Fed Policy: A Shadow Review\" Cato Institut...</td>\n",
       "      <td>I am delighted to be at the Cato Institute tod...</td>\n",
       "    </tr>\n",
       "    <tr>\n",
       "      <th>1</th>\n",
       "      <td>https://www.federalreserve.gov/newsevents/spee...</td>\n",
       "      <td>November 14, 2019</td>\n",
       "      <td>Brief Remarks (via pre-recorded video)</td>\n",
       "      <td>Vice Chair for Supervision Randal K. Quarles</td>\n",
       "      <td>At \"Supervision in a Digital Era,\" the 26th An...</td>\n",
       "      <td>Vice Chair for Supervision Quarles brief remar...</td>\n",
       "    </tr>\n",
       "    <tr>\n",
       "      <th>2</th>\n",
       "      <td>https://www.federalreserve.gov/newsevents/spee...</td>\n",
       "      <td>November 12, 2019</td>\n",
       "      <td>Monetary Policy, Price Stability, and Equilibr...</td>\n",
       "      <td>Vice Chair Richard H. Clarida</td>\n",
       "      <td>At the High-Level Conference on Global Risk, U...</td>\n",
       "      <td>Good morning. I am honored and delighted to pa...</td>\n",
       "    </tr>\n",
       "    <tr>\n",
       "      <th>3</th>\n",
       "      <td>https://www.federalreserve.gov/newsevents/spee...</td>\n",
       "      <td>November 08, 2019</td>\n",
       "      <td>Why Climate Change Matters for Monetary Policy...</td>\n",
       "      <td>Governor Lael Brainard</td>\n",
       "      <td>At \"The Economics of Climate Change\" a researc...</td>\n",
       "      <td>I want to thank my colleagues at the Federal R...</td>\n",
       "    </tr>\n",
       "    <tr>\n",
       "      <th>4</th>\n",
       "      <td>https://www.federalreserve.gov/newsevents/spee...</td>\n",
       "      <td>November 01, 2019</td>\n",
       "      <td>Friedrich Hayek and the Price System</td>\n",
       "      <td>Vice Chair for Supervision Randal K. Quarles</td>\n",
       "      <td>At \"The Road to Serfdom at 75: The Future of C...</td>\n",
       "      <td>I am delighted to be back in New Haven and par...</td>\n",
       "    </tr>\n",
       "  </tbody>\n",
       "</table>\n",
       "</div>"
      ],
      "text/plain": [
       "                                                 url        speech_date  \\\n",
       "0  https://www.federalreserve.gov/newsevents/spee...  November 14, 2019   \n",
       "1  https://www.federalreserve.gov/newsevents/spee...  November 14, 2019   \n",
       "2  https://www.federalreserve.gov/newsevents/spee...  November 12, 2019   \n",
       "3  https://www.federalreserve.gov/newsevents/spee...  November 08, 2019   \n",
       "4  https://www.federalreserve.gov/newsevents/spee...  November 01, 2019   \n",
       "\n",
       "                                               title  \\\n",
       "0  The Federal Reserve’s Review of Its Monetary P...   \n",
       "1             Brief Remarks (via pre-recorded video)   \n",
       "2  Monetary Policy, Price Stability, and Equilibr...   \n",
       "3  Why Climate Change Matters for Monetary Policy...   \n",
       "4               Friedrich Hayek and the Price System   \n",
       "\n",
       "                                        speaker  \\\n",
       "0                 Vice Chair Richard H. Clarida   \n",
       "1  Vice Chair for Supervision Randal K. Quarles   \n",
       "2                 Vice Chair Richard H. Clarida   \n",
       "3                        Governor Lael Brainard   \n",
       "4  Vice Chair for Supervision Randal K. Quarles   \n",
       "\n",
       "                                            location  \\\n",
       "0  At \"Fed Policy: A Shadow Review\" Cato Institut...   \n",
       "1  At \"Supervision in a Digital Era,\" the 26th An...   \n",
       "2  At the High-Level Conference on Global Risk, U...   \n",
       "3  At \"The Economics of Climate Change\" a researc...   \n",
       "4  At \"The Road to Serfdom at 75: The Future of C...   \n",
       "\n",
       "                                           full_text  \n",
       "0  I am delighted to be at the Cato Institute tod...  \n",
       "1  Vice Chair for Supervision Quarles brief remar...  \n",
       "2  Good morning. I am honored and delighted to pa...  \n",
       "3  I want to thank my colleagues at the Federal R...  \n",
       "4  I am delighted to be back in New Haven and par...  "
      ]
     },
     "execution_count": 7,
     "metadata": {},
     "output_type": "execute_result"
    }
   ],
   "source": [
    "df_raw.head()"
   ]
  },
  {
   "cell_type": "code",
   "execution_count": 8,
   "metadata": {
    "scrolled": true
   },
   "outputs": [
    {
     "data": {
      "text/plain": [
       "\"contributions of projections and assessments from all FOMC participants, it captures a broader range of views than those of FOMC members. For a discussion and data, see Bernanke (2007) and Romer (2010). Return to text\\n19. Information about the review and the events associated with it are available on the Board's website at https://www.federalreserve.gov/monetarypolicy/review-of-monetary-policy-strategy-tools-and-communications.htm. Return to text\\n20. See Board of Governors (2019). Return to text\""
      ]
     },
     "execution_count": 8,
     "metadata": {},
     "output_type": "execute_result"
    }
   ],
   "source": [
    "# example of dirty text\n",
    "df_raw.iloc[0]['full_text'][-500:]"
   ]
  },
  {
   "cell_type": "code",
   "execution_count": 9,
   "metadata": {},
   "outputs": [],
   "source": [
    "# Function removes references at the bottom of some speeches,\n",
    "# links, special characters like hyphens, numbers, and \n",
    "# text like \"return to page\" on the bottom of the website\n",
    "df = clean_speech_text(df_raw)"
   ]
  },
  {
   "cell_type": "code",
   "execution_count": 10,
   "metadata": {},
   "outputs": [
    {
     "data": {
      "text/plain": [
       "'ngress has assigned us For this reason my colleagues and I do not want to preempt or to predict our ultimate findings What I can say is that any refinements or more material changes to our framework that we might make will be aimed solely at enhancing our ability to achieve and sustain our dual mandate objectives in the world we live in today Thank you very much for your time and attention I trust that todays conference will provide stimulating discussion of issues that are central to our review'"
      ]
     },
     "execution_count": 10,
     "metadata": {},
     "output_type": "execute_result"
    }
   ],
   "source": [
    "# example of clean text\n",
    "df.iloc[0]['full_text'][-500:]"
   ]
  },
  {
   "cell_type": "code",
   "execution_count": 11,
   "metadata": {},
   "outputs": [],
   "source": [
    "df = df.reset_index()\n",
    "df = df.rename(columns={'index': 'index_no'})"
   ]
  },
  {
   "cell_type": "code",
   "execution_count": 12,
   "metadata": {
    "scrolled": true
   },
   "outputs": [
    {
     "data": {
      "text/html": [
       "<div>\n",
       "<style scoped>\n",
       "    .dataframe tbody tr th:only-of-type {\n",
       "        vertical-align: middle;\n",
       "    }\n",
       "\n",
       "    .dataframe tbody tr th {\n",
       "        vertical-align: top;\n",
       "    }\n",
       "\n",
       "    .dataframe thead th {\n",
       "        text-align: right;\n",
       "    }\n",
       "</style>\n",
       "<table border=\"1\" class=\"dataframe\">\n",
       "  <thead>\n",
       "    <tr style=\"text-align: right;\">\n",
       "      <th></th>\n",
       "      <th>index_no</th>\n",
       "      <th>url</th>\n",
       "      <th>speech_date</th>\n",
       "      <th>title</th>\n",
       "      <th>speaker</th>\n",
       "      <th>location</th>\n",
       "      <th>full_text</th>\n",
       "    </tr>\n",
       "  </thead>\n",
       "  <tbody>\n",
       "    <tr>\n",
       "      <th>0</th>\n",
       "      <td>0</td>\n",
       "      <td>https://www.federalreserve.gov/newsevents/spee...</td>\n",
       "      <td>November 14, 2019</td>\n",
       "      <td>The Federal Reserve’s Review of Its Monetary P...</td>\n",
       "      <td>Vice Chair Richard H. Clarida</td>\n",
       "      <td>At \"Fed Policy: A Shadow Review\" Cato Institut...</td>\n",
       "      <td>I am delighted to be at the Cato Institute tod...</td>\n",
       "    </tr>\n",
       "    <tr>\n",
       "      <th>1</th>\n",
       "      <td>1</td>\n",
       "      <td>https://www.federalreserve.gov/newsevents/spee...</td>\n",
       "      <td>November 14, 2019</td>\n",
       "      <td>Brief Remarks (via pre-recorded video)</td>\n",
       "      <td>Vice Chair for Supervision Randal K. Quarles</td>\n",
       "      <td>At \"Supervision in a Digital Era,\" the 26th An...</td>\n",
       "      <td>Vice Chair for Supervision Quarles brief remar...</td>\n",
       "    </tr>\n",
       "    <tr>\n",
       "      <th>2</th>\n",
       "      <td>2</td>\n",
       "      <td>https://www.federalreserve.gov/newsevents/spee...</td>\n",
       "      <td>November 12, 2019</td>\n",
       "      <td>Monetary Policy, Price Stability, and Equilibr...</td>\n",
       "      <td>Vice Chair Richard H. Clarida</td>\n",
       "      <td>At the High-Level Conference on Global Risk, U...</td>\n",
       "      <td>Good morning I am honored and delighted to par...</td>\n",
       "    </tr>\n",
       "    <tr>\n",
       "      <th>3</th>\n",
       "      <td>3</td>\n",
       "      <td>https://www.federalreserve.gov/newsevents/spee...</td>\n",
       "      <td>November 08, 2019</td>\n",
       "      <td>Why Climate Change Matters for Monetary Policy...</td>\n",
       "      <td>Governor Lael Brainard</td>\n",
       "      <td>At \"The Economics of Climate Change\" a researc...</td>\n",
       "      <td>I want to thank my colleagues at the Federal R...</td>\n",
       "    </tr>\n",
       "    <tr>\n",
       "      <th>4</th>\n",
       "      <td>4</td>\n",
       "      <td>https://www.federalreserve.gov/newsevents/spee...</td>\n",
       "      <td>November 01, 2019</td>\n",
       "      <td>Friedrich Hayek and the Price System</td>\n",
       "      <td>Vice Chair for Supervision Randal K. Quarles</td>\n",
       "      <td>At \"The Road to Serfdom at 75: The Future of C...</td>\n",
       "      <td>I am delighted to be back in New Haven and par...</td>\n",
       "    </tr>\n",
       "  </tbody>\n",
       "</table>\n",
       "</div>"
      ],
      "text/plain": [
       "   index_no                                                url  \\\n",
       "0         0  https://www.federalreserve.gov/newsevents/spee...   \n",
       "1         1  https://www.federalreserve.gov/newsevents/spee...   \n",
       "2         2  https://www.federalreserve.gov/newsevents/spee...   \n",
       "3         3  https://www.federalreserve.gov/newsevents/spee...   \n",
       "4         4  https://www.federalreserve.gov/newsevents/spee...   \n",
       "\n",
       "         speech_date                                              title  \\\n",
       "0  November 14, 2019  The Federal Reserve’s Review of Its Monetary P...   \n",
       "1  November 14, 2019             Brief Remarks (via pre-recorded video)   \n",
       "2  November 12, 2019  Monetary Policy, Price Stability, and Equilibr...   \n",
       "3  November 08, 2019  Why Climate Change Matters for Monetary Policy...   \n",
       "4  November 01, 2019               Friedrich Hayek and the Price System   \n",
       "\n",
       "                                        speaker  \\\n",
       "0                 Vice Chair Richard H. Clarida   \n",
       "1  Vice Chair for Supervision Randal K. Quarles   \n",
       "2                 Vice Chair Richard H. Clarida   \n",
       "3                        Governor Lael Brainard   \n",
       "4  Vice Chair for Supervision Randal K. Quarles   \n",
       "\n",
       "                                            location  \\\n",
       "0  At \"Fed Policy: A Shadow Review\" Cato Institut...   \n",
       "1  At \"Supervision in a Digital Era,\" the 26th An...   \n",
       "2  At the High-Level Conference on Global Risk, U...   \n",
       "3  At \"The Economics of Climate Change\" a researc...   \n",
       "4  At \"The Road to Serfdom at 75: The Future of C...   \n",
       "\n",
       "                                           full_text  \n",
       "0  I am delighted to be at the Cato Institute tod...  \n",
       "1  Vice Chair for Supervision Quarles brief remar...  \n",
       "2  Good morning I am honored and delighted to par...  \n",
       "3  I want to thank my colleagues at the Federal R...  \n",
       "4  I am delighted to be back in New Haven and par...  "
      ]
     },
     "execution_count": 12,
     "metadata": {},
     "output_type": "execute_result"
    }
   ],
   "source": [
    "df.head()"
   ]
  },
  {
   "cell_type": "code",
   "execution_count": 13,
   "metadata": {},
   "outputs": [],
   "source": [
    "# First tags the part of speech using nltk.pos_tag\n",
    "# and then uses the WordNetLemmatizer from nltk.stem\n",
    "df['lemm'] = df['full_text'].apply(lambda x: lemmatize_speech_text(x))"
   ]
  },
  {
   "cell_type": "code",
   "execution_count": 14,
   "metadata": {},
   "outputs": [
    {
     "data": {
      "text/plain": [
       "'believe our existing framework which has been in place since  has served us well and has enabled'"
      ]
     },
     "execution_count": 14,
     "metadata": {},
     "output_type": "execute_result"
    }
   ],
   "source": [
    "# lemmatized sample - original text\n",
    "df.iloc[0]['full_text'][554:650]"
   ]
  },
  {
   "cell_type": "code",
   "execution_count": 15,
   "metadata": {},
   "outputs": [
    {
     "data": {
      "text/plain": [
       "['believe',\n",
       " 'our',\n",
       " 'exist',\n",
       " 'framework',\n",
       " 'which',\n",
       " 'have',\n",
       " 'be',\n",
       " 'in',\n",
       " 'place',\n",
       " 'since',\n",
       " 'have',\n",
       " 'serve',\n",
       " 'u',\n",
       " 'well',\n",
       " 'and',\n",
       " 'have',\n",
       " 'enable']"
      ]
     },
     "execution_count": 15,
     "metadata": {},
     "output_type": "execute_result"
    }
   ],
   "source": [
    "# lemmatized tokens\n",
    "df.iloc[0]['lemm'][100:117]"
   ]
  },
  {
   "cell_type": "code",
   "execution_count": 16,
   "metadata": {},
   "outputs": [],
   "source": [
    "# count number of unique, lemmatized tokens\n",
    "df['unique_lemm_words'] = df['lemm'].apply(lambda x: count_unique_words(x))"
   ]
  },
  {
   "cell_type": "code",
   "execution_count": 17,
   "metadata": {},
   "outputs": [],
   "source": [
    "# find 20 most common lemmatized tokens for each speech\n",
    "df['common_20_lemm_words'] = df['lemm'].apply(lambda x: get_most_common_words(x, num=20))"
   ]
  },
  {
   "cell_type": "code",
   "execution_count": 18,
   "metadata": {},
   "outputs": [
    {
     "data": {
      "text/html": [
       "<div>\n",
       "<style scoped>\n",
       "    .dataframe tbody tr th:only-of-type {\n",
       "        vertical-align: middle;\n",
       "    }\n",
       "\n",
       "    .dataframe tbody tr th {\n",
       "        vertical-align: top;\n",
       "    }\n",
       "\n",
       "    .dataframe thead th {\n",
       "        text-align: right;\n",
       "    }\n",
       "</style>\n",
       "<table border=\"1\" class=\"dataframe\">\n",
       "  <thead>\n",
       "    <tr style=\"text-align: right;\">\n",
       "      <th></th>\n",
       "      <th>index_no</th>\n",
       "      <th>title</th>\n",
       "      <th>common_20_lemm_words</th>\n",
       "    </tr>\n",
       "  </thead>\n",
       "  <tbody>\n",
       "    <tr>\n",
       "      <th>0</th>\n",
       "      <td>0</td>\n",
       "      <td>The Federal Reserve’s Review of Its Monetary P...</td>\n",
       "      <td>[(the, 152), (and, 74), (be, 64), (to, 63), (o...</td>\n",
       "    </tr>\n",
       "    <tr>\n",
       "      <th>1</th>\n",
       "      <td>1</td>\n",
       "      <td>Brief Remarks (via pre-recorded video)</td>\n",
       "      <td>[(the, 98), (of, 43), (and, 41), (be, 39), (to...</td>\n",
       "    </tr>\n",
       "    <tr>\n",
       "      <th>2</th>\n",
       "      <td>2</td>\n",
       "      <td>Monetary Policy, Price Stability, and Equilibr...</td>\n",
       "      <td>[(the, 290), (and, 134), (in, 133), (of, 117),...</td>\n",
       "    </tr>\n",
       "    <tr>\n",
       "      <th>3</th>\n",
       "      <td>3</td>\n",
       "      <td>Why Climate Change Matters for Monetary Policy...</td>\n",
       "      <td>[(the, 111), (to, 87), (and, 75), (of, 50), (b...</td>\n",
       "    </tr>\n",
       "    <tr>\n",
       "      <th>4</th>\n",
       "      <td>4</td>\n",
       "      <td>Friedrich Hayek and the Price System</td>\n",
       "      <td>[(the, 228), (of, 147), (be, 112), (a, 111), (...</td>\n",
       "    </tr>\n",
       "  </tbody>\n",
       "</table>\n",
       "</div>"
      ],
      "text/plain": [
       "   index_no                                              title  \\\n",
       "0         0  The Federal Reserve’s Review of Its Monetary P...   \n",
       "1         1             Brief Remarks (via pre-recorded video)   \n",
       "2         2  Monetary Policy, Price Stability, and Equilibr...   \n",
       "3         3  Why Climate Change Matters for Monetary Policy...   \n",
       "4         4               Friedrich Hayek and the Price System   \n",
       "\n",
       "                                common_20_lemm_words  \n",
       "0  [(the, 152), (and, 74), (be, 64), (to, 63), (o...  \n",
       "1  [(the, 98), (of, 43), (and, 41), (be, 39), (to...  \n",
       "2  [(the, 290), (and, 134), (in, 133), (of, 117),...  \n",
       "3  [(the, 111), (to, 87), (and, 75), (of, 50), (b...  \n",
       "4  [(the, 228), (of, 147), (be, 112), (a, 111), (...  "
      ]
     },
     "execution_count": 18,
     "metadata": {},
     "output_type": "execute_result"
    }
   ],
   "source": [
    "# Notice how the most comment words are \"the\", \"and\", \"of\", etc.\n",
    "# We need to remove stop words\n",
    "df[['index_no', 'title', 'common_20_lemm_words']].head()"
   ]
  },
  {
   "cell_type": "code",
   "execution_count": 19,
   "metadata": {},
   "outputs": [],
   "source": [
    "# Remove stopwords using english stopwords list in nltk.corpus\n",
    "# Then, re-calculate unique lemmatized words after removing stop words\n",
    "# and get the most common 20 words\n",
    "df['stopped_lemm_words'] = df['lemm'].apply(lambda x: remove_stop_words(x))\n",
    "df['common_20_stopped_lemm_words'] = df['stopped_lemm_words'].apply(lambda x: get_most_common_words(x, num=20))\n",
    "df['unique_stopped_lemm_words'] = df['stopped_lemm_words'].apply(lambda x: count_unique_words(x))"
   ]
  },
  {
   "cell_type": "code",
   "execution_count": 20,
   "metadata": {
    "scrolled": false
   },
   "outputs": [
    {
     "data": {
      "image/png": "[encoded data removed]",
      "text/plain": [
       "<Figure size 1080x432 with 2 Axes>"
      ]
     },
     "metadata": {
      "needs_background": "light"
     },
     "output_type": "display_data"
    }
   ],
   "source": [
    "# Visual example of stop word removal, based on 20 most common words in the speech\n",
    "# Shows us that our lemmatization and stop word removal worked well\n",
    "plot_most_common_words(df, article_num=9)"
   ]
  },
  {
   "cell_type": "code",
   "execution_count": 42,
   "metadata": {},
   "outputs": [],
   "source": [
    "# Converting speech_date columns to datetime\n",
    "# and extracting month and year columns\n",
    "df = convert_to_datetime(df)"
   ]
  },
  {
   "cell_type": "code",
   "execution_count": 27,
   "metadata": {
    "scrolled": true
   },
   "outputs": [],
   "source": [
    "# Obtaining speech polarity and subjectivity\n",
    "df['polarity'] = df['full_text'].apply(lambda x: TextBlob(x).polarity)\n",
    "df['subjectivity'] = df['full_text'].apply(lambda x: TextBlob(x).subjectivity)"
   ]
  },
  {
   "cell_type": "code",
   "execution_count": 28,
   "metadata": {},
   "outputs": [
    {
     "data": {
      "text/html": [
       "<div>\n",
       "<style scoped>\n",
       "    .dataframe tbody tr th:only-of-type {\n",
       "        vertical-align: middle;\n",
       "    }\n",
       "\n",
       "    .dataframe tbody tr th {\n",
       "        vertical-align: top;\n",
       "    }\n",
       "\n",
       "    .dataframe thead th {\n",
       "        text-align: right;\n",
       "    }\n",
       "</style>\n",
       "<table border=\"1\" class=\"dataframe\">\n",
       "  <thead>\n",
       "    <tr style=\"text-align: right;\">\n",
       "      <th></th>\n",
       "      <th>title</th>\n",
       "      <th>lemm</th>\n",
       "      <th>speech_datetime</th>\n",
       "      <th>speech_year</th>\n",
       "      <th>speech_month</th>\n",
       "      <th>unique_lemm_words</th>\n",
       "      <th>common_20_lemm_words</th>\n",
       "      <th>stopped_lemm_words</th>\n",
       "      <th>common_20_stopped_lemm_words</th>\n",
       "      <th>polarity</th>\n",
       "      <th>subjectivity</th>\n",
       "    </tr>\n",
       "  </thead>\n",
       "  <tbody>\n",
       "    <tr>\n",
       "      <th>0</th>\n",
       "      <td>The Federal Reserve’s Review of Its Monetary P...</td>\n",
       "      <td>[i, be, delighted, to, be, at, the, cato, inst...</td>\n",
       "      <td>2019-11-14</td>\n",
       "      <td>2019</td>\n",
       "      <td>11</td>\n",
       "      <td>597</td>\n",
       "      <td>[(the, 152), (and, 74), (be, 64), (to, 63), (o...</td>\n",
       "      <td>[delighted, cato, institute, today, participat...</td>\n",
       "      <td>[(policy, 29), (inflation, 27), (review, 23), ...</td>\n",
       "      <td>0.117149</td>\n",
       "      <td>0.410959</td>\n",
       "    </tr>\n",
       "    <tr>\n",
       "      <th>1</th>\n",
       "      <td>Brief Remarks (via pre-recorded video)</td>\n",
       "      <td>[vice, chair, for, supervision, quarles, brief...</td>\n",
       "      <td>2019-11-14</td>\n",
       "      <td>2019</td>\n",
       "      <td>11</td>\n",
       "      <td>417</td>\n",
       "      <td>[(the, 98), (of, 43), (and, 41), (be, 39), (to...</td>\n",
       "      <td>[vice, chair, supervision, quarles, brief, rem...</td>\n",
       "      <td>[(financial, 18), (fsb, 17), (iais, 13), (insu...</td>\n",
       "      <td>0.094762</td>\n",
       "      <td>0.312060</td>\n",
       "    </tr>\n",
       "    <tr>\n",
       "      <th>2</th>\n",
       "      <td>Monetary Policy, Price Stability, and Equilibr...</td>\n",
       "      <td>[good, morning, i, be, honor, and, delighted, ...</td>\n",
       "      <td>2019-11-12</td>\n",
       "      <td>2019</td>\n",
       "      <td>11</td>\n",
       "      <td>811</td>\n",
       "      <td>[(the, 290), (and, 134), (in, 133), (of, 117),...</td>\n",
       "      <td>[good, morning, honor, delighted, participate,...</td>\n",
       "      <td>[(inflation, 83), (bond, 40), (policy, 39), (r...</td>\n",
       "      <td>0.062778</td>\n",
       "      <td>0.397190</td>\n",
       "    </tr>\n",
       "  </tbody>\n",
       "</table>\n",
       "</div>"
      ],
      "text/plain": [
       "                                               title  \\\n",
       "0  The Federal Reserve’s Review of Its Monetary P...   \n",
       "1             Brief Remarks (via pre-recorded video)   \n",
       "2  Monetary Policy, Price Stability, and Equilibr...   \n",
       "\n",
       "                                                lemm speech_datetime  \\\n",
       "0  [i, be, delighted, to, be, at, the, cato, inst...      2019-11-14   \n",
       "1  [vice, chair, for, supervision, quarles, brief...      2019-11-14   \n",
       "2  [good, morning, i, be, honor, and, delighted, ...      2019-11-12   \n",
       "\n",
       "   speech_year  speech_month  unique_lemm_words  \\\n",
       "0         2019            11                597   \n",
       "1         2019            11                417   \n",
       "2         2019            11                811   \n",
       "\n",
       "                                common_20_lemm_words  \\\n",
       "0  [(the, 152), (and, 74), (be, 64), (to, 63), (o...   \n",
       "1  [(the, 98), (of, 43), (and, 41), (be, 39), (to...   \n",
       "2  [(the, 290), (and, 134), (in, 133), (of, 117),...   \n",
       "\n",
       "                                  stopped_lemm_words  \\\n",
       "0  [delighted, cato, institute, today, participat...   \n",
       "1  [vice, chair, supervision, quarles, brief, rem...   \n",
       "2  [good, morning, honor, delighted, participate,...   \n",
       "\n",
       "                        common_20_stopped_lemm_words  polarity  subjectivity  \n",
       "0  [(policy, 29), (inflation, 27), (review, 23), ...  0.117149      0.410959  \n",
       "1  [(financial, 18), (fsb, 17), (iais, 13), (insu...  0.094762      0.312060  \n",
       "2  [(inflation, 83), (bond, 40), (policy, 39), (r...  0.062778      0.397190  "
      ]
     },
     "execution_count": 28,
     "metadata": {},
     "output_type": "execute_result"
    }
   ],
   "source": [
    "# Sample of data cleaning results & new \n",
    "df[['title', 'lemm', 'speech_datetime', 'speech_year', 'speech_month', 'unique_lemm_words', 'common_20_lemm_words',\n",
    "    'stopped_lemm_words', 'common_20_stopped_lemm_words', 'polarity', 'subjectivity']].head(3)"
   ]
  },
  {
   "cell_type": "code",
   "execution_count": 29,
   "metadata": {},
   "outputs": [],
   "source": [
    "# Save to pickle - so we don't need to re-run text cleaning functions\n",
    "df.to_pickle('frb_speeches_all_clean.pkl')"
   ]
  },
  {
   "cell_type": "markdown",
   "metadata": {},
   "source": [
    "# Feature Engineering"
   ]
  },
  {
   "cell_type": "markdown",
   "metadata": {},
   "source": [
    "I create the dictionary and bag-of-words (bow) that will be used to run the NLP analysis."
   ]
  },
  {
   "cell_type": "code",
   "execution_count": 2,
   "metadata": {},
   "outputs": [],
   "source": [
    "#importing pandas DataFrame of speech text and metadata\n",
    "df = pd.read_pickle('frb_speeches_all_clean.pkl')"
   ]
  },
  {
   "cell_type": "code",
   "execution_count": 3,
   "metadata": {},
   "outputs": [
    {
     "name": "stdout",
     "output_type": "stream",
     "text": [
      "Number of words in dictionary prior to filtering: 21483\n",
      "Number of words in dictionary after filtering: 6711\n"
     ]
    }
   ],
   "source": [
    "# creating the dictionary\n",
    "dictionary = create_dictionary(df, 'stopped_lemm_words', no_below=10, no_above=0.66, keep_n=10000)\n",
    "# creating the bag of words - count of all words in the dictionary that appear in each document\n",
    "bow_corpus = create_bow(df, dictionary, 'stopped_lemm_words')"
   ]
  },
  {
   "cell_type": "markdown",
   "metadata": {},
   "source": [
    "# LDA Modeling"
   ]
  },
  {
   "cell_type": "markdown",
   "metadata": {},
   "source": [
    "To proceed with topic modeling, I need to first identify the ideal number of topics for our corpus. I will use perplexity scores and coherence scores calculated on a number of topics to try and identify the ideal number of topics."
   ]
  },
  {
   "cell_type": "code",
   "execution_count": 4,
   "metadata": {},
   "outputs": [],
   "source": [
    "# Note: Fitting an LDA model and calculating the perplexity and coherence scores takes a while.\n",
    "# Expect this gridsearch to take at least 5 minutes per iteration (num iterations = num topics)\n",
    "scores = get_scores(bow_corpus,\n",
    "                    dictionary,\n",
    "                    df,\n",
    "                    col_name='stopped_lemm_words',\n",
    "                    min_num_topics = 2,\n",
    "                    max_num_topics = 20)"
   ]
  },
  {
   "cell_type": "code",
   "execution_count": null,
   "metadata": {},
   "outputs": [],
   "source": [
    "## Plot scores"
   ]
  },
  {
   "cell_type": "code",
   "execution_count": 22,
   "metadata": {
    "scrolled": true
   },
   "outputs": [
    {
     "data": {
      "text/plain": [
       "-7.384844951368197"
      ]
     },
     "execution_count": 22,
     "metadata": {},
     "output_type": "execute_result"
    }
   ],
   "source": [
    "# perplexity score of final model\n",
    "per_score = lda_model.log_perplexity(bow_corpus)\n",
    "print(per_score)"
   ]
  },
  {
   "cell_type": "code",
   "execution_count": 23,
   "metadata": {},
   "outputs": [
    {
     "data": {
      "text/plain": [
       "0.5720122536905804"
      ]
     },
     "execution_count": 23,
     "metadata": {},
     "output_type": "execute_result"
    }
   ],
   "source": [
    "# coherence score of final model\n",
    "co_score = CoherenceModel(model=lda_model, texts=df['stopped_lemm_words'], dictionary=dictionary,\n",
    "                                     coherence='c_v').get_coherence()\n",
    "print(co_score)"
   ]
  },
  {
   "cell_type": "code",
   "execution_count": 19,
   "metadata": {},
   "outputs": [
    {
     "name": "stderr",
     "output_type": "stream",
     "text": [
      "/Users/kathringo/anaconda3/lib/python3.7/site-packages/pyLDAvis/_prepare.py:257: FutureWarning: Sorting because non-concatenation axis is not aligned. A future version\n",
      "of pandas will change to not sort by default.\n",
      "\n",
      "To accept the future behavior, pass 'sort=False'.\n",
      "\n",
      "To retain the current behavior and silence the warning, pass 'sort=True'.\n",
      "\n",
      "  return pd.concat([default_term_info] + list(topic_dfs))\n"
     ]
    }
   ],
   "source": [
    "lda_model, df_dominant = run_and_save_final_lda_model(bow_corpus, \n",
    "                                                      dictionary, df, \n",
    "                                                      'stopped_lemm_words', \n",
    "                                                      num_topics = 11)"
   ]
  },
  {
   "cell_type": "code",
   "execution_count": 21,
   "metadata": {},
   "outputs": [
    {
     "data": {
      "text/html": [
       "<div>\n",
       "<style scoped>\n",
       "    .dataframe tbody tr th:only-of-type {\n",
       "        vertical-align: middle;\n",
       "    }\n",
       "\n",
       "    .dataframe tbody tr th {\n",
       "        vertical-align: top;\n",
       "    }\n",
       "\n",
       "    .dataframe thead th {\n",
       "        text-align: right;\n",
       "    }\n",
       "</style>\n",
       "<table border=\"1\" class=\"dataframe\">\n",
       "  <thead>\n",
       "    <tr style=\"text-align: right;\">\n",
       "      <th></th>\n",
       "      <th>Document_No</th>\n",
       "      <th>Dominant_Topic</th>\n",
       "      <th>Top_Topic_Perc_Contrib</th>\n",
       "      <th>Keywords</th>\n",
       "    </tr>\n",
       "  </thead>\n",
       "  <tbody>\n",
       "    <tr>\n",
       "      <th>0</th>\n",
       "      <td>0</td>\n",
       "      <td>6.0</td>\n",
       "      <td>0.9771</td>\n",
       "      <td>inflation, monetary, central, target, fomc, ex...</td>\n",
       "    </tr>\n",
       "    <tr>\n",
       "      <th>1</th>\n",
       "      <td>1</td>\n",
       "      <td>3.0</td>\n",
       "      <td>0.5714</td>\n",
       "      <td>firm, crisis, stress, requirement, regulatory,...</td>\n",
       "    </tr>\n",
       "    <tr>\n",
       "      <th>2</th>\n",
       "      <td>2</td>\n",
       "      <td>6.0</td>\n",
       "      <td>0.8805</td>\n",
       "      <td>inflation, monetary, central, target, fomc, ex...</td>\n",
       "    </tr>\n",
       "    <tr>\n",
       "      <th>3</th>\n",
       "      <td>3</td>\n",
       "      <td>4.0</td>\n",
       "      <td>0.2956</td>\n",
       "      <td>household, mortgage, debt, equity, loan, stock...</td>\n",
       "    </tr>\n",
       "    <tr>\n",
       "      <th>4</th>\n",
       "      <td>4</td>\n",
       "      <td>6.0</td>\n",
       "      <td>0.3543</td>\n",
       "      <td>inflation, monetary, central, target, fomc, ex...</td>\n",
       "    </tr>\n",
       "  </tbody>\n",
       "</table>\n",
       "</div>"
      ],
      "text/plain": [
       "   Document_No  Dominant_Topic  Top_Topic_Perc_Contrib  \\\n",
       "0            0             6.0                  0.9771   \n",
       "1            1             3.0                  0.5714   \n",
       "2            2             6.0                  0.8805   \n",
       "3            3             4.0                  0.2956   \n",
       "4            4             6.0                  0.3543   \n",
       "\n",
       "                                            Keywords  \n",
       "0  inflation, monetary, central, target, fomc, ex...  \n",
       "1  firm, crisis, stress, requirement, regulatory,...  \n",
       "2  inflation, monetary, central, target, fomc, ex...  \n",
       "3  household, mortgage, debt, equity, loan, stock...  \n",
       "4  inflation, monetary, central, target, fomc, ex...  "
      ]
     },
     "execution_count": 21,
     "metadata": {},
     "output_type": "execute_result"
    }
   ],
   "source": [
    "df_dominant.head()"
   ]
  },
  {
   "cell_type": "code",
   "execution_count": null,
   "metadata": {},
   "outputs": [],
   "source": []
  },
  {
   "cell_type": "markdown",
   "metadata": {},
   "source": [
    "# Exploratory Data Analysis (EDA)"
   ]
  },
  {
   "cell_type": "markdown",
   "metadata": {},
   "source": [
    "## Sentiment Analysis by Year of Speech"
   ]
  },
  {
   "cell_type": "code",
   "execution_count": 32,
   "metadata": {},
   "outputs": [
    {
     "data": {
      "image/png": "[encoded data removed]",
      "text/plain": [
       "<Figure size 576x432 with 1 Axes>"
      ]
     },
     "metadata": {
      "needs_background": "light"
     },
     "output_type": "display_data"
    }
   ],
   "source": [
    "plot_speeches_per_year(df)"
   ]
  },
  {
   "cell_type": "code",
   "execution_count": 37,
   "metadata": {},
   "outputs": [
    {
     "data": {
      "image/png": "[encoded data removed]",
      "text/plain": [
       "<Figure size 576x432 with 1 Axes>"
      ]
     },
     "metadata": {
      "needs_background": "light"
     },
     "output_type": "display_data"
    }
   ],
   "source": [
    "# Polarity (aka Sentiment) goes from 0 to 1\n",
    "# We can see that most speeches are in a tight range of midly positive\n",
    "plot_polarity_dist_per_year(df)"
   ]
  },
  {
   "cell_type": "code",
   "execution_count": 42,
   "metadata": {},
   "outputs": [
    {
     "data": {
      "image/png": "[encoded data removed]",
      "text/plain": [
       "<Figure size 576x432 with 1 Axes>"
      ]
     },
     "metadata": {
      "needs_background": "light"
     },
     "output_type": "display_data"
    }
   ],
   "source": [
    "# Subjectivity goes from 0 to 1\n",
    "# We can see that most speeches are in a tight range of somewhat subjective, somewhat emotional\n",
    "plot_subjectivity_dist_per_year(df)"
   ]
  },
  {
   "cell_type": "code",
   "execution_count": null,
   "metadata": {},
   "outputs": [],
   "source": []
  }
 ],
 "metadata": {
  "kernelspec": {
   "display_name": "Python 3",
   "language": "python",
   "name": "python3"
  },
  "language_info": {
   "codemirror_mode": {
    "name": "ipython",
    "version": 3
   },
   "file_extension": ".py",
   "mimetype": "text/x-python",
   "name": "python",
   "nbconvert_exporter": "python",
   "pygments_lexer": "ipython3",
   "version": "3.7.3"
  }
 },
 "nbformat": 4,
 "nbformat_minor": 2
}
