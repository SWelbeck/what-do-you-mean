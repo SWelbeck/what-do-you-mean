{
 "cells": [
  {
   "cell_type": "code",
   "execution_count": 9,
   "metadata": {},
   "outputs": [],
   "source": [
    "# helper functions\n",
    "from frb_functions import *\n",
    "import pandas as pd\n",
    "from copy import deepcopy"
   ]
  },
  {
   "cell_type": "markdown",
   "metadata": {},
   "source": [
    "## Webscraping Federal Reserve (Fed) Speeches"
   ]
  },
  {
   "cell_type": "markdown",
   "metadata": {},
   "source": [
    "The first corpus I will be working with are the speeches that are made by Federal Reserve members and subsequently published on the Fed website. These speeches can help us identify the topics of interest to the Fed.\n",
    "\n",
    "The FOMC statements are released on the \"speech\" portion of the Fed website."
   ]
  },
  {
   "cell_type": "code",
   "execution_count": null,
   "metadata": {},
   "outputs": [],
   "source": [
    "# webscrape speech text from Fed website\n",
    "speech_urls = navigate_frb_speeches()\n",
    "speeches = get_frb_speech_text(speech_urls)\n",
    "speeches_df = pd.DataFrame(frb_articles,\n",
    "                               columns=['url', 'speech_date', 'title', 'speaker', 'location', 'full_text'])"
   ]
  },
  {
   "cell_type": "code",
   "execution_count": 2,
   "metadata": {},
   "outputs": [],
   "source": [
    "# webscrape archived speech text from Fed website\n",
    "speech_urls, speakers, locations, dates_, titles = navigate_frb_archived_speeches()\n",
    "speech_text = get_frb_speech_text_archived(speech_urls)\n",
    "# Combine scraped text \n",
    "archived_speeches = list(zip(speech_urls, dates_, titles, speakers, locations, speech_text))\n",
    "archived_speeches_df = pd.DataFrame(archived_speeches,\n",
    "                                                 columns=['url', 'speech_date', 'title',\n",
    "                                                          'speaker', 'location', 'full_text'])"
   ]
  },
  {
   "cell_type": "code",
   "execution_count": 37,
   "metadata": {},
   "outputs": [],
   "source": [
    "# Combine archived & recent speech dataframes\n",
    "df_raw = pd.concat([speeches_df, archived_speeches_df])\n",
    "# Save to pickle\n",
    "df_raw.to_pickle('frb_speeches_all_raw.pkl')"
   ]
  },
  {
   "cell_type": "markdown",
   "metadata": {},
   "source": [
    "## Cleaning Speech Text"
   ]
  },
  {
   "cell_type": "code",
   "execution_count": 12,
   "metadata": {},
   "outputs": [],
   "source": [
    "#importing pandas DataFrame of speech text and metadata\n",
    "df_raw = pd.read_pickle('frb_speeches_all_raw.pkl')"
   ]
  },
  {
   "cell_type": "code",
   "execution_count": 13,
   "metadata": {},
   "outputs": [
    {
     "data": {
      "text/plain": [
       "(1432, 6)"
      ]
     },
     "execution_count": 13,
     "metadata": {},
     "output_type": "execute_result"
    }
   ],
   "source": [
    "df_raw.shape"
   ]
  },
  {
   "cell_type": "code",
   "execution_count": 14,
   "metadata": {},
   "outputs": [
    {
     "data": {
      "text/html": [
       "<div>\n",
       "<style scoped>\n",
       "    .dataframe tbody tr th:only-of-type {\n",
       "        vertical-align: middle;\n",
       "    }\n",
       "\n",
       "    .dataframe tbody tr th {\n",
       "        vertical-align: top;\n",
       "    }\n",
       "\n",
       "    .dataframe thead th {\n",
       "        text-align: right;\n",
       "    }\n",
       "</style>\n",
       "<table border=\"1\" class=\"dataframe\">\n",
       "  <thead>\n",
       "    <tr style=\"text-align: right;\">\n",
       "      <th></th>\n",
       "      <th>url</th>\n",
       "      <th>speech_date</th>\n",
       "      <th>title</th>\n",
       "      <th>speaker</th>\n",
       "      <th>location</th>\n",
       "      <th>full_text</th>\n",
       "    </tr>\n",
       "  </thead>\n",
       "  <tbody>\n",
       "    <tr>\n",
       "      <th>0</th>\n",
       "      <td>https://www.federalreserve.gov/newsevents/spee...</td>\n",
       "      <td>November 14, 2019</td>\n",
       "      <td>The Federal Reserve’s Review of Its Monetary P...</td>\n",
       "      <td>Vice Chair Richard H. Clarida</td>\n",
       "      <td>At \"Fed Policy: A Shadow Review\" Cato Institut...</td>\n",
       "      <td>I am delighted to be at the Cato Institute tod...</td>\n",
       "    </tr>\n",
       "    <tr>\n",
       "      <th>1</th>\n",
       "      <td>https://www.federalreserve.gov/newsevents/spee...</td>\n",
       "      <td>November 14, 2019</td>\n",
       "      <td>Brief Remarks (via pre-recorded video)</td>\n",
       "      <td>Vice Chair for Supervision Randal K. Quarles</td>\n",
       "      <td>At \"Supervision in a Digital Era,\" the 26th An...</td>\n",
       "      <td>Vice Chair for Supervision Quarles brief remar...</td>\n",
       "    </tr>\n",
       "    <tr>\n",
       "      <th>2</th>\n",
       "      <td>https://www.federalreserve.gov/newsevents/spee...</td>\n",
       "      <td>November 12, 2019</td>\n",
       "      <td>Monetary Policy, Price Stability, and Equilibr...</td>\n",
       "      <td>Vice Chair Richard H. Clarida</td>\n",
       "      <td>At the High-Level Conference on Global Risk, U...</td>\n",
       "      <td>Good morning. I am honored and delighted to pa...</td>\n",
       "    </tr>\n",
       "    <tr>\n",
       "      <th>3</th>\n",
       "      <td>https://www.federalreserve.gov/newsevents/spee...</td>\n",
       "      <td>November 08, 2019</td>\n",
       "      <td>Why Climate Change Matters for Monetary Policy...</td>\n",
       "      <td>Governor Lael Brainard</td>\n",
       "      <td>At \"The Economics of Climate Change\" a researc...</td>\n",
       "      <td>I want to thank my colleagues at the Federal R...</td>\n",
       "    </tr>\n",
       "    <tr>\n",
       "      <th>4</th>\n",
       "      <td>https://www.federalreserve.gov/newsevents/spee...</td>\n",
       "      <td>November 01, 2019</td>\n",
       "      <td>Friedrich Hayek and the Price System</td>\n",
       "      <td>Vice Chair for Supervision Randal K. Quarles</td>\n",
       "      <td>At \"The Road to Serfdom at 75: The Future of C...</td>\n",
       "      <td>I am delighted to be back in New Haven and par...</td>\n",
       "    </tr>\n",
       "  </tbody>\n",
       "</table>\n",
       "</div>"
      ],
      "text/plain": [
       "                                                 url        speech_date  \\\n",
       "0  https://www.federalreserve.gov/newsevents/spee...  November 14, 2019   \n",
       "1  https://www.federalreserve.gov/newsevents/spee...  November 14, 2019   \n",
       "2  https://www.federalreserve.gov/newsevents/spee...  November 12, 2019   \n",
       "3  https://www.federalreserve.gov/newsevents/spee...  November 08, 2019   \n",
       "4  https://www.federalreserve.gov/newsevents/spee...  November 01, 2019   \n",
       "\n",
       "                                               title  \\\n",
       "0  The Federal Reserve’s Review of Its Monetary P...   \n",
       "1             Brief Remarks (via pre-recorded video)   \n",
       "2  Monetary Policy, Price Stability, and Equilibr...   \n",
       "3  Why Climate Change Matters for Monetary Policy...   \n",
       "4               Friedrich Hayek and the Price System   \n",
       "\n",
       "                                        speaker  \\\n",
       "0                 Vice Chair Richard H. Clarida   \n",
       "1  Vice Chair for Supervision Randal K. Quarles   \n",
       "2                 Vice Chair Richard H. Clarida   \n",
       "3                        Governor Lael Brainard   \n",
       "4  Vice Chair for Supervision Randal K. Quarles   \n",
       "\n",
       "                                            location  \\\n",
       "0  At \"Fed Policy: A Shadow Review\" Cato Institut...   \n",
       "1  At \"Supervision in a Digital Era,\" the 26th An...   \n",
       "2  At the High-Level Conference on Global Risk, U...   \n",
       "3  At \"The Economics of Climate Change\" a researc...   \n",
       "4  At \"The Road to Serfdom at 75: The Future of C...   \n",
       "\n",
       "                                           full_text  \n",
       "0  I am delighted to be at the Cato Institute tod...  \n",
       "1  Vice Chair for Supervision Quarles brief remar...  \n",
       "2  Good morning. I am honored and delighted to pa...  \n",
       "3  I want to thank my colleagues at the Federal R...  \n",
       "4  I am delighted to be back in New Haven and par...  "
      ]
     },
     "execution_count": 14,
     "metadata": {},
     "output_type": "execute_result"
    }
   ],
   "source": [
    "df_raw.head()"
   ]
  },
  {
   "cell_type": "code",
   "execution_count": 15,
   "metadata": {
    "scrolled": true
   },
   "outputs": [
    {
     "data": {
      "text/plain": [
       "\"contributions of projections and assessments from all FOMC participants, it captures a broader range of views than those of FOMC members. For a discussion and data, see Bernanke (2007) and Romer (2010). Return to text\\n19. Information about the review and the events associated with it are available on the Board's website at https://www.federalreserve.gov/monetarypolicy/review-of-monetary-policy-strategy-tools-and-communications.htm. Return to text\\n20. See Board of Governors (2019). Return to text\""
      ]
     },
     "execution_count": 15,
     "metadata": {},
     "output_type": "execute_result"
    }
   ],
   "source": [
    "# example of dirty text\n",
    "df_raw.iloc[0]['full_text'][-500:]"
   ]
  },
  {
   "cell_type": "code",
   "execution_count": 16,
   "metadata": {},
   "outputs": [],
   "source": [
    "# Function removes references at the bottom of some speeches,\n",
    "# links, special characters like hyphens, numbers, and \n",
    "# text like \"return to page\" on the bottom of the website\n",
    "df = clean_speech_text(df_raw)"
   ]
  },
  {
   "cell_type": "code",
   "execution_count": 17,
   "metadata": {},
   "outputs": [
    {
     "data": {
      "text/plain": [
       "'ngress has assigned us For this reason my colleagues and I do not want to preempt or to predict our ultimate findings What I can say is that any refinements or more material changes to our framework that we might make will be aimed solely at enhancing our ability to achieve and sustain our dual mandate objectives in the world we live in today Thank you very much for your time and attention I trust that todays conference will provide stimulating discussion of issues that are central to our review'"
      ]
     },
     "execution_count": 17,
     "metadata": {},
     "output_type": "execute_result"
    }
   ],
   "source": [
    "# example of dirty text\n",
    "df.iloc[0]['full_text'][-500:]"
   ]
  },
  {
   "cell_type": "code",
   "execution_count": 18,
   "metadata": {},
   "outputs": [],
   "source": [
    "df = df.reset_index()\n",
    "df = df.rename(columns={'index': 'index_no'})"
   ]
  },
  {
   "cell_type": "code",
   "execution_count": 19,
   "metadata": {
    "scrolled": true
   },
   "outputs": [
    {
     "data": {
      "text/html": [
       "<div>\n",
       "<style scoped>\n",
       "    .dataframe tbody tr th:only-of-type {\n",
       "        vertical-align: middle;\n",
       "    }\n",
       "\n",
       "    .dataframe tbody tr th {\n",
       "        vertical-align: top;\n",
       "    }\n",
       "\n",
       "    .dataframe thead th {\n",
       "        text-align: right;\n",
       "    }\n",
       "</style>\n",
       "<table border=\"1\" class=\"dataframe\">\n",
       "  <thead>\n",
       "    <tr style=\"text-align: right;\">\n",
       "      <th></th>\n",
       "      <th>index_no</th>\n",
       "      <th>url</th>\n",
       "      <th>speech_date</th>\n",
       "      <th>title</th>\n",
       "      <th>speaker</th>\n",
       "      <th>location</th>\n",
       "      <th>full_text</th>\n",
       "    </tr>\n",
       "  </thead>\n",
       "  <tbody>\n",
       "    <tr>\n",
       "      <th>0</th>\n",
       "      <td>0</td>\n",
       "      <td>https://www.federalreserve.gov/newsevents/spee...</td>\n",
       "      <td>November 14, 2019</td>\n",
       "      <td>The Federal Reserve’s Review of Its Monetary P...</td>\n",
       "      <td>Vice Chair Richard H. Clarida</td>\n",
       "      <td>At \"Fed Policy: A Shadow Review\" Cato Institut...</td>\n",
       "      <td>I am delighted to be at the Cato Institute tod...</td>\n",
       "    </tr>\n",
       "    <tr>\n",
       "      <th>1</th>\n",
       "      <td>1</td>\n",
       "      <td>https://www.federalreserve.gov/newsevents/spee...</td>\n",
       "      <td>November 14, 2019</td>\n",
       "      <td>Brief Remarks (via pre-recorded video)</td>\n",
       "      <td>Vice Chair for Supervision Randal K. Quarles</td>\n",
       "      <td>At \"Supervision in a Digital Era,\" the 26th An...</td>\n",
       "      <td>Vice Chair for Supervision Quarles brief remar...</td>\n",
       "    </tr>\n",
       "    <tr>\n",
       "      <th>2</th>\n",
       "      <td>2</td>\n",
       "      <td>https://www.federalreserve.gov/newsevents/spee...</td>\n",
       "      <td>November 12, 2019</td>\n",
       "      <td>Monetary Policy, Price Stability, and Equilibr...</td>\n",
       "      <td>Vice Chair Richard H. Clarida</td>\n",
       "      <td>At the High-Level Conference on Global Risk, U...</td>\n",
       "      <td>Good morning I am honored and delighted to par...</td>\n",
       "    </tr>\n",
       "    <tr>\n",
       "      <th>3</th>\n",
       "      <td>3</td>\n",
       "      <td>https://www.federalreserve.gov/newsevents/spee...</td>\n",
       "      <td>November 08, 2019</td>\n",
       "      <td>Why Climate Change Matters for Monetary Policy...</td>\n",
       "      <td>Governor Lael Brainard</td>\n",
       "      <td>At \"The Economics of Climate Change\" a researc...</td>\n",
       "      <td>I want to thank my colleagues at the Federal R...</td>\n",
       "    </tr>\n",
       "    <tr>\n",
       "      <th>4</th>\n",
       "      <td>4</td>\n",
       "      <td>https://www.federalreserve.gov/newsevents/spee...</td>\n",
       "      <td>November 01, 2019</td>\n",
       "      <td>Friedrich Hayek and the Price System</td>\n",
       "      <td>Vice Chair for Supervision Randal K. Quarles</td>\n",
       "      <td>At \"The Road to Serfdom at 75: The Future of C...</td>\n",
       "      <td>I am delighted to be back in New Haven and par...</td>\n",
       "    </tr>\n",
       "  </tbody>\n",
       "</table>\n",
       "</div>"
      ],
      "text/plain": [
       "   index_no                                                url  \\\n",
       "0         0  https://www.federalreserve.gov/newsevents/spee...   \n",
       "1         1  https://www.federalreserve.gov/newsevents/spee...   \n",
       "2         2  https://www.federalreserve.gov/newsevents/spee...   \n",
       "3         3  https://www.federalreserve.gov/newsevents/spee...   \n",
       "4         4  https://www.federalreserve.gov/newsevents/spee...   \n",
       "\n",
       "         speech_date                                              title  \\\n",
       "0  November 14, 2019  The Federal Reserve’s Review of Its Monetary P...   \n",
       "1  November 14, 2019             Brief Remarks (via pre-recorded video)   \n",
       "2  November 12, 2019  Monetary Policy, Price Stability, and Equilibr...   \n",
       "3  November 08, 2019  Why Climate Change Matters for Monetary Policy...   \n",
       "4  November 01, 2019               Friedrich Hayek and the Price System   \n",
       "\n",
       "                                        speaker  \\\n",
       "0                 Vice Chair Richard H. Clarida   \n",
       "1  Vice Chair for Supervision Randal K. Quarles   \n",
       "2                 Vice Chair Richard H. Clarida   \n",
       "3                        Governor Lael Brainard   \n",
       "4  Vice Chair for Supervision Randal K. Quarles   \n",
       "\n",
       "                                            location  \\\n",
       "0  At \"Fed Policy: A Shadow Review\" Cato Institut...   \n",
       "1  At \"Supervision in a Digital Era,\" the 26th An...   \n",
       "2  At the High-Level Conference on Global Risk, U...   \n",
       "3  At \"The Economics of Climate Change\" a researc...   \n",
       "4  At \"The Road to Serfdom at 75: The Future of C...   \n",
       "\n",
       "                                           full_text  \n",
       "0  I am delighted to be at the Cato Institute tod...  \n",
       "1  Vice Chair for Supervision Quarles brief remar...  \n",
       "2  Good morning I am honored and delighted to par...  \n",
       "3  I want to thank my colleagues at the Federal R...  \n",
       "4  I am delighted to be back in New Haven and par...  "
      ]
     },
     "execution_count": 19,
     "metadata": {},
     "output_type": "execute_result"
    }
   ],
   "source": [
    "df.head()"
   ]
  },
  {
   "cell_type": "code",
   "execution_count": 20,
   "metadata": {},
   "outputs": [],
   "source": [
    "# First tags the part of speech using nltk.pos_tag\n",
    "# and then uses the WordNetLemmatizer from nltk.stem\n",
    "df['lemm'] = df['full_text'].apply(lambda x: lemmatize_speech_text(x))"
   ]
  },
  {
   "cell_type": "code",
   "execution_count": 21,
   "metadata": {},
   "outputs": [
    {
     "data": {
      "text/plain": [
       "'believe our existing framework which has been in place since  has served us well and has enabled'"
      ]
     },
     "execution_count": 21,
     "metadata": {},
     "output_type": "execute_result"
    }
   ],
   "source": [
    "# original text\n",
    "df.iloc[0]['full_text'][554:650]"
   ]
  },
  {
   "cell_type": "code",
   "execution_count": 22,
   "metadata": {},
   "outputs": [
    {
     "data": {
      "text/plain": [
       "['believe',\n",
       " 'our',\n",
       " 'exist',\n",
       " 'framework',\n",
       " 'which',\n",
       " 'have',\n",
       " 'be',\n",
       " 'in',\n",
       " 'place',\n",
       " 'since',\n",
       " 'have',\n",
       " 'serve',\n",
       " 'u',\n",
       " 'well',\n",
       " 'and',\n",
       " 'have',\n",
       " 'enable']"
      ]
     },
     "execution_count": 22,
     "metadata": {},
     "output_type": "execute_result"
    }
   ],
   "source": [
    "# lemmatized tokens\n",
    "df.iloc[0]['lemm'][100:117]"
   ]
  },
  {
   "cell_type": "code",
   "execution_count": 23,
   "metadata": {},
   "outputs": [],
   "source": [
    "# count number of unique, lemmatized tokens\n",
    "df['unique_lemm_words'] = df['lemm'].apply(lambda x: count_unique_words(x))"
   ]
  },
  {
   "cell_type": "code",
   "execution_count": 24,
   "metadata": {},
   "outputs": [],
   "source": [
    "# find 20 most common lemmatized tokens for each speech\n",
    "df['common_20_lemm_words'] = df['lemm'].apply(lambda x: get_most_common_words(x, num=20))"
   ]
  },
  {
   "cell_type": "code",
   "execution_count": 25,
   "metadata": {},
   "outputs": [
    {
     "data": {
      "text/html": [
       "<div>\n",
       "<style scoped>\n",
       "    .dataframe tbody tr th:only-of-type {\n",
       "        vertical-align: middle;\n",
       "    }\n",
       "\n",
       "    .dataframe tbody tr th {\n",
       "        vertical-align: top;\n",
       "    }\n",
       "\n",
       "    .dataframe thead th {\n",
       "        text-align: right;\n",
       "    }\n",
       "</style>\n",
       "<table border=\"1\" class=\"dataframe\">\n",
       "  <thead>\n",
       "    <tr style=\"text-align: right;\">\n",
       "      <th></th>\n",
       "      <th>index_no</th>\n",
       "      <th>title</th>\n",
       "      <th>common_20_lemm_words</th>\n",
       "    </tr>\n",
       "  </thead>\n",
       "  <tbody>\n",
       "    <tr>\n",
       "      <th>0</th>\n",
       "      <td>0</td>\n",
       "      <td>The Federal Reserve’s Review of Its Monetary P...</td>\n",
       "      <td>[(the, 152), (and, 74), (be, 64), (to, 63), (o...</td>\n",
       "    </tr>\n",
       "    <tr>\n",
       "      <th>1</th>\n",
       "      <td>1</td>\n",
       "      <td>Brief Remarks (via pre-recorded video)</td>\n",
       "      <td>[(the, 98), (of, 43), (and, 41), (be, 39), (to...</td>\n",
       "    </tr>\n",
       "    <tr>\n",
       "      <th>2</th>\n",
       "      <td>2</td>\n",
       "      <td>Monetary Policy, Price Stability, and Equilibr...</td>\n",
       "      <td>[(the, 290), (and, 134), (in, 133), (of, 117),...</td>\n",
       "    </tr>\n",
       "    <tr>\n",
       "      <th>3</th>\n",
       "      <td>3</td>\n",
       "      <td>Why Climate Change Matters for Monetary Policy...</td>\n",
       "      <td>[(the, 111), (to, 87), (and, 75), (of, 50), (b...</td>\n",
       "    </tr>\n",
       "    <tr>\n",
       "      <th>4</th>\n",
       "      <td>4</td>\n",
       "      <td>Friedrich Hayek and the Price System</td>\n",
       "      <td>[(the, 228), (of, 147), (be, 112), (a, 111), (...</td>\n",
       "    </tr>\n",
       "  </tbody>\n",
       "</table>\n",
       "</div>"
      ],
      "text/plain": [
       "   index_no                                              title  \\\n",
       "0         0  The Federal Reserve’s Review of Its Monetary P...   \n",
       "1         1             Brief Remarks (via pre-recorded video)   \n",
       "2         2  Monetary Policy, Price Stability, and Equilibr...   \n",
       "3         3  Why Climate Change Matters for Monetary Policy...   \n",
       "4         4               Friedrich Hayek and the Price System   \n",
       "\n",
       "                                common_20_lemm_words  \n",
       "0  [(the, 152), (and, 74), (be, 64), (to, 63), (o...  \n",
       "1  [(the, 98), (of, 43), (and, 41), (be, 39), (to...  \n",
       "2  [(the, 290), (and, 134), (in, 133), (of, 117),...  \n",
       "3  [(the, 111), (to, 87), (and, 75), (of, 50), (b...  \n",
       "4  [(the, 228), (of, 147), (be, 112), (a, 111), (...  "
      ]
     },
     "execution_count": 25,
     "metadata": {},
     "output_type": "execute_result"
    }
   ],
   "source": [
    "# Notice how the most comment words are \"the\", \"and\", \"of\", etc.\n",
    "# We need to remove stop words\n",
    "df[['index_no', 'title', 'common_20_lemm_words']].head()"
   ]
  },
  {
   "cell_type": "code",
   "execution_count": 3,
   "metadata": {},
   "outputs": [],
   "source": [
    "# Remove stopwords using english stopwords list in nltk.corpus\n",
    "# Then, re-calculate unique lemmatized words after removing stop words\n",
    "# and get the most common 20 words\n",
    "df['stopped_lemm_words'] = df['lemm'].apply(lambda x: remove_stop_words(x))\n",
    "df['common_20_stopped_lemm_words'] = df['stopped_lemm_words'].apply(lambda x: get_most_common_words(x, num=20))\n",
    "df['unique_stopped_lemm_words'] = df['stopped_lemm_words'].apply(lambda x: count_unique_words(x))"
   ]
  },
  {
   "cell_type": "code",
   "execution_count": 6,
   "metadata": {
    "scrolled": false
   },
   "outputs": [
    {
     "data": {
      "image/png": "[encoded data removed]",
      "text/plain": [
       "<Figure size 1080x432 with 2 Axes>"
      ]
     },
     "metadata": {
      "needs_background": "light"
     },
     "output_type": "display_data"
    }
   ],
   "source": [
    "# Visual example of stop word removal, based on 20 most common words in the speech\n",
    "plot_most_common_words(df, article_num=9)"
   ]
  },
  {
   "cell_type": "code",
   "execution_count": 16,
   "metadata": {},
   "outputs": [],
   "source": [
    "# Save to pickle\n",
    "df.to_pickle('test.pkl')"
   ]
  },
  {
   "cell_type": "code",
   "execution_count": 17,
   "metadata": {},
   "outputs": [],
   "source": [
    "#importing pandas DataFrame of speech text and metadata\n",
    "df = pd.read_pickle('test.pkl')"
   ]
  }
 ],
 "metadata": {
  "kernelspec": {
   "display_name": "Python 3",
   "language": "python",
   "name": "python3"
  },
  "language_info": {
   "codemirror_mode": {
    "name": "ipython",
    "version": 3
   },
   "file_extension": ".py",
   "mimetype": "text/x-python",
   "name": "python",
   "nbconvert_exporter": "python",
   "pygments_lexer": "ipython3",
   "version": "3.7.3"
  }
 },
 "nbformat": 4,
 "nbformat_minor": 2
}
